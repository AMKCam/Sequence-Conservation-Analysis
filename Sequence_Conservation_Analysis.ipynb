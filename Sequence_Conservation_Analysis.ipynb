{
 "cells": [
  {
   "cell_type": "markdown",
   "metadata": {},
   "source": [
    "# Sequence Conservation"
   ]
  },
  {
   "cell_type": "markdown",
   "metadata": {},
   "source": [
    "Analysis of sequence conservation for HlyB, PCAT, and HlyA-like protein sequences"
   ]
  },
  {
   "cell_type": "markdown",
   "metadata": {},
   "source": [
    "## Import Modules"
   ]
  },
  {
   "cell_type": "code",
   "execution_count": null,
   "metadata": {},
   "outputs": [],
   "source": [
    "import pandas as pd\n",
    "import matplotlib.pyplot as plt\n",
    "import seaborn as sns\n",
    "import numpy as np\n",
    "from Bio import AlignIO\n",
    "import logomaker"
   ]
  },
  {
   "cell_type": "markdown",
   "metadata": {},
   "source": [
    "## Alignments Files and Sequence Conservation"
   ]
  },
  {
   "cell_type": "markdown",
   "metadata": {},
   "source": [
    "### HlyB and Peptidase Sequences"
   ]
  },
  {
   "cell_type": "code",
   "execution_count": null,
   "metadata": {},
   "outputs": [],
   "source": [
    "# read in alignments\n",
    "alignment = AlignIO.read(open(\"HlyB_peptidase_microcin_align_renamed.fasta\"), \"fasta\")\n",
    "print(\"Alignment length %i\" % alignment.get_alignment_length())\n",
    "for record in alignment:\n",
    "    print(record.seq + \" \" + record.id)\n",
    "len_seq = int(alignment.get_alignment_length()) # get length of sequences"
   ]
  },
  {
   "cell_type": "code",
   "execution_count": null,
   "metadata": {},
   "outputs": [],
   "source": [
    "seqs = [str(rec.seq) for rec in alignment] # list of sequences\n",
    "ids = [rec.id for rec in alignment] # list of ids"
   ]
  },
  {
   "cell_type": "code",
   "execution_count": null,
   "metadata": {},
   "outputs": [],
   "source": [
    "align_dic = dict(zip(ids, seqs)) #dictionary of ids with original alignments"
   ]
  },
  {
   "cell_type": "code",
   "execution_count": null,
   "metadata": {},
   "outputs": [],
   "source": [
    "# Convert Alignment to LogoMaker matrix\n",
    "align_logo_df = logomaker.alignment_to_matrix(sequences=seqs,to_type='probability',pseudocount=0)"
   ]
  },
  {
   "cell_type": "code",
   "execution_count": null,
   "metadata": {},
   "outputs": [],
   "source": [
    "#Make logo figure\n",
    "logo_fig = logomaker.Logo(df=align_logo_df,\n",
    "               color_scheme='chemistry',\n",
    "               stack_order='big_on_top',\n",
    "            fade_probabilities=True,\n",
    "                         figsize=(100,5))\n",
    "plt.savefig(\"Alignment Logo HlyB and Peptidases.pdf\",dpi=300)"
   ]
  },
  {
   "cell_type": "code",
   "execution_count": null,
   "metadata": {},
   "outputs": [],
   "source": [
    "# Get CLD\n",
    "CLD_index = []\n",
    "for i in range(0,230):\n",
    "    CLD_index.append(i)"
   ]
  },
  {
   "cell_type": "code",
   "execution_count": null,
   "metadata": {},
   "outputs": [],
   "source": [
    "# Sub alignment for CLD residues\n",
    "sub_align_df = align_logo_df.iloc[CLD_index]\n",
    "sub_align_df.reset_index(inplace=True, drop=True)"
   ]
  },
  {
   "cell_type": "code",
   "execution_count": null,
   "metadata": {},
   "outputs": [],
   "source": [
    "#Make logo figure - CLD domain\n",
    "cld_logo_fig = logomaker.Logo(df=sub_align_df,\n",
    "               color_scheme='chemistry',\n",
    "               stack_order='big_on_top',\n",
    "            fade_probabilities=True,\n",
    "                         figsize=(100,5))\n",
    "plt.savefig(\"Alignment Logo HlyB and Peptidases by CLD.pdf\",dpi=300)"
   ]
  },
  {
   "cell_type": "code",
   "execution_count": null,
   "metadata": {},
   "outputs": [],
   "source": [
    "# Sub alignment for CLD residues - plotting\n",
    "cld_align_df = align_logo_df.iloc[[60,63,96,97,98,99,100,108,113,115,118,119,137,146,148,149,151,174]]\n",
    "cld_align_df.reset_index(inplace=True, drop=True)"
   ]
  },
  {
   "cell_type": "code",
   "execution_count": null,
   "metadata": {},
   "outputs": [],
   "source": [
    "#Make logo figure - CLD\n",
    "cld_fig = logomaker.Logo(df=cld_align_df,\n",
    "               color_scheme='chemistry',\n",
    "               stack_order='big_on_top',\n",
    "            fade_probabilities=True,\n",
    "                         figsize=(30,5))\n",
    "plt.savefig(\"Alignment Logo HlyB and Peptidases by CLD for thesis.pdf\",dpi=300)"
   ]
  },
  {
   "cell_type": "code",
   "execution_count": null,
   "metadata": {},
   "outputs": [],
   "source": [
    "# Sub alignment for transmembrane residues - plotting\n",
    "trans_nbd_align_df = align_logo_df.iloc[[335,337,341,344,411,415,418,419,422,647,648,682,684,690,692,693]]\n",
    "trans_nbd_align_df.reset_index(inplace=True, drop=True)"
   ]
  },
  {
   "cell_type": "code",
   "execution_count": null,
   "metadata": {},
   "outputs": [],
   "source": [
    "#Make logo figure - TMD and NBD\n",
    "trans_nbd_fig = logomaker.Logo(df=trans_nbd_align_df,\n",
    "               color_scheme='chemistry',\n",
    "               stack_order='big_on_top',\n",
    "            fade_probabilities=True,\n",
    "                         figsize=(30,5))\n",
    "plt.savefig(\"Alignment Logo HlyB and Peptidases by TM and NBD for thesis.pdf\",dpi=300)"
   ]
  },
  {
   "cell_type": "code",
   "execution_count": null,
   "metadata": {},
   "outputs": [],
   "source": [
    "# Protein-Lipid Interactions CLD\n",
    "cld_lip_align_df = align_logo_df.iloc[[73,76,128,155,156,158,166,179,187]]\n",
    "cld_lip_align_df.reset_index(inplace=True, drop=True)"
   ]
  },
  {
   "cell_type": "code",
   "execution_count": null,
   "metadata": {},
   "outputs": [],
   "source": [
    "#Make logo figure - lipid interactions with CLD\n",
    "cld_lip_ig = logomaker.Logo(df=cld_lip_align_df,\n",
    "               color_scheme='chemistry',\n",
    "               stack_order='big_on_top',\n",
    "            fade_probabilities=True,\n",
    "                         figsize=(30,5))\n",
    "plt.savefig(\"Alignment Logo HlyB and Peptidases by CLD for lipid interact for thesis.pdf\",dpi=300)"
   ]
  },
  {
   "cell_type": "code",
   "execution_count": null,
   "metadata": {},
   "outputs": [],
   "source": [
    "# Protein-Lipid Interactions TMD\n",
    "tm_lip_align_df = align_logo_df.iloc[[229,239,277,280,356,360,400,457,490,497,517,520,523,524]]\n",
    "tm_lip_align_df.reset_index(inplace=True, drop=True)"
   ]
  },
  {
   "cell_type": "code",
   "execution_count": null,
   "metadata": {},
   "outputs": [],
   "source": [
    "#Make logo figure - lipid interactions TMD\n",
    "tm_lip_fig = logomaker.Logo(df=tm_lip_align_df,\n",
    "               color_scheme='chemistry',\n",
    "               stack_order='big_on_top',\n",
    "            fade_probabilities=True,\n",
    "                         figsize=(30,5))\n",
    "plt.savefig(\"Alignment Logo HlyB and Peptidases by TM for lipid interact for thesis.pdf\",dpi=300)"
   ]
  },
  {
   "cell_type": "markdown",
   "metadata": {},
   "source": [
    "### HlyA-Like Sequences"
   ]
  },
  {
   "cell_type": "code",
   "execution_count": null,
   "metadata": {},
   "outputs": [],
   "source": [
    "# read in in HlyA-like sequences\n",
    "alignment = AlignIO.read(open(\"HlyA Seq Filtered Align.fasta\"), \"fasta\")\n",
    "print(\"Alignment length %i\" % alignment.get_alignment_length())\n",
    "for record in alignment:\n",
    "    print(record.seq + \" \" + record.id)\n",
    "len_seq = int(alignment.get_alignment_length()) # get length of sequences"
   ]
  },
  {
   "cell_type": "code",
   "execution_count": null,
   "metadata": {},
   "outputs": [],
   "source": [
    "seqs = [str(rec.seq) for rec in alignment] # list of sequences\n",
    "ids = [rec.id for rec in alignment] # list of ids"
   ]
  },
  {
   "cell_type": "code",
   "execution_count": null,
   "metadata": {},
   "outputs": [],
   "source": [
    "align_dic = dict(zip(ids, seqs)) #dictionary of ids with original alignments"
   ]
  },
  {
   "cell_type": "code",
   "execution_count": null,
   "metadata": {},
   "outputs": [],
   "source": [
    "# Convert Alignment to LogoMaker matrix\n",
    "align_logo_df = logomaker.alignment_to_matrix(sequences=seqs,to_type='probability',pseudocount=0)"
   ]
  },
  {
   "cell_type": "code",
   "execution_count": null,
   "metadata": {},
   "outputs": [],
   "source": [
    "#Make logo figure\n",
    "logo_fig = logomaker.Logo(df=align_logo_df,\n",
    "               color_scheme='chemistry',\n",
    "               stack_order='big_on_top',\n",
    "            fade_probabilities=True,\n",
    "                         figsize=(100,5))\n",
    "plt.savefig(\"Alignment Logo HlyA Filtered Seq.pdf\",dpi=300)"
   ]
  },
  {
   "cell_type": "markdown",
   "metadata": {},
   "source": [
    "#### Split by residue to make thesis figure"
   ]
  },
  {
   "cell_type": "code",
   "execution_count": null,
   "metadata": {},
   "outputs": [],
   "source": [
    "subset_align_df = align_logo_df.iloc[0:200]\n",
    "subset_align_df.reset_index(inplace=True, drop=True)"
   ]
  },
  {
   "cell_type": "code",
   "execution_count": null,
   "metadata": {},
   "outputs": [],
   "source": [
    "#Make logo figure\n",
    "logo_fig = logomaker.Logo(df=subset_align_df,\n",
    "               color_scheme='chemistry',\n",
    "               stack_order='big_on_top',\n",
    "            fade_probabilities=True,\n",
    "                         figsize=(100,5))\n",
    "plt.savefig(\"Alignment Logo HlyA Filtered Seq First 200 aa.pdf\",dpi=300)"
   ]
  },
  {
   "cell_type": "code",
   "execution_count": null,
   "metadata": {},
   "outputs": [],
   "source": [
    "subset_align_df = align_logo_df.iloc[200:400]\n",
    "subset_align_df.reset_index(inplace=True, drop=True)"
   ]
  },
  {
   "cell_type": "code",
   "execution_count": null,
   "metadata": {},
   "outputs": [],
   "source": [
    "#Make logo figure\n",
    "logo_fig = logomaker.Logo(df=subset_align_df,\n",
    "               color_scheme='chemistry',\n",
    "               stack_order='big_on_top',\n",
    "            fade_probabilities=True,\n",
    "                         figsize=(100,5))\n",
    "plt.savefig(\"Alignment Logo HlyA Filtered Seq aa 200 to 400.pdf\",dpi=300)"
   ]
  },
  {
   "cell_type": "code",
   "execution_count": null,
   "metadata": {},
   "outputs": [],
   "source": [
    "subset_align_df = align_logo_df.iloc[400:600]\n",
    "subset_align_df.reset_index(inplace=True, drop=True)"
   ]
  },
  {
   "cell_type": "code",
   "execution_count": null,
   "metadata": {},
   "outputs": [],
   "source": [
    "#Make logo figure\n",
    "logo_fig = logomaker.Logo(df=subset_align_df,\n",
    "               color_scheme='chemistry',\n",
    "               stack_order='big_on_top',\n",
    "            fade_probabilities=True,\n",
    "                         figsize=(100,5))\n",
    "plt.savefig(\"Alignment Logo HlyA Filtered Seq aa 400 to 600.pdf\",dpi=300)"
   ]
  },
  {
   "cell_type": "code",
   "execution_count": null,
   "metadata": {},
   "outputs": [],
   "source": [
    "subset_align_df = align_logo_df.iloc[600:800]\n",
    "subset_align_df.reset_index(inplace=True, drop=True)"
   ]
  },
  {
   "cell_type": "code",
   "execution_count": null,
   "metadata": {},
   "outputs": [],
   "source": [
    "#Make logo figure\n",
    "logo_fig = logomaker.Logo(df=subset_align_df,\n",
    "               color_scheme='chemistry',\n",
    "               stack_order='big_on_top',\n",
    "            fade_probabilities=True,\n",
    "                         figsize=(100,5))\n",
    "plt.savefig(\"Alignment Logo HlyA Filtered Seq aa 600 to 800.pdf\",dpi=300)"
   ]
  },
  {
   "cell_type": "code",
   "execution_count": null,
   "metadata": {},
   "outputs": [],
   "source": [
    "subset_align_df = align_logo_df.iloc[800:1000]\n",
    "subset_align_df.reset_index(inplace=True, drop=True)"
   ]
  },
  {
   "cell_type": "code",
   "execution_count": null,
   "metadata": {},
   "outputs": [],
   "source": [
    "#Make logo figure\n",
    "logo_fig = logomaker.Logo(df=subset_align_df,\n",
    "               color_scheme='chemistry',\n",
    "               stack_order='big_on_top',\n",
    "            fade_probabilities=True,\n",
    "                         figsize=(100,5))\n",
    "plt.savefig(\"Alignment Logo HlyA Filtered Seq aa 800 to 1000.pdf\",dpi=300)"
   ]
  },
  {
   "cell_type": "code",
   "execution_count": null,
   "metadata": {},
   "outputs": [],
   "source": [
    "subset_align_df = align_logo_df.iloc[849:1049]\n",
    "subset_align_df.reset_index(inplace=True, drop=True)"
   ]
  },
  {
   "cell_type": "code",
   "execution_count": null,
   "metadata": {},
   "outputs": [],
   "source": [
    "#Make logo figure\n",
    "logo_fig = logomaker.Logo(df=subset_align_df,\n",
    "               color_scheme='chemistry',\n",
    "               stack_order='big_on_top',\n",
    "            fade_probabilities=True,\n",
    "                         figsize=(100,5))\n",
    "plt.savefig(\"Alignment Logo HlyA Filtered Seq aa 849 to 1049.pdf\",dpi=300)"
   ]
  }
 ],
 "metadata": {
  "kernelspec": {
   "display_name": "Python 3 (ipykernel)",
   "language": "python",
   "name": "python3"
  },
  "language_info": {
   "codemirror_mode": {
    "name": "ipython",
    "version": 3
   },
   "file_extension": ".py",
   "mimetype": "text/x-python",
   "name": "python",
   "nbconvert_exporter": "python",
   "pygments_lexer": "ipython3",
   "version": "3.10.9"
  }
 },
 "nbformat": 4,
 "nbformat_minor": 4
}
